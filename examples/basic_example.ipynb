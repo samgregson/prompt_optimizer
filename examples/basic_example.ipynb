{
  "cells": [
    {
      "cell_type": "markdown",
      "metadata": {
        "colab_type": "text",
        "id": "view-in-github"
      },
      "source": [
        "<a href=\"https://colab.research.google.com/github/samgregson/prompt_optimizer/blob/main/examples/basic_example.ipynb\" target=\"_parent\"><img src=\"https://colab.research.google.com/assets/colab-badge.svg\" alt=\"Open In Colab\"/></a>"
      ]
    },
    {
      "cell_type": "markdown",
      "metadata": {
        "id": "FvGmAPaQ7n8F"
      },
      "source": [
        "## Setup for Colab"
      ]
    },
    {
      "cell_type": "code",
      "execution_count": 8,
      "metadata": {
        "id": "8TUenD5u5N4p"
      },
      "outputs": [],
      "source": [
        "import sys\n",
        "IN_COLAB = 'google.colab' in sys.modules\n",
        "\n",
        "if IN_COLAB:\n",
        "  !pip install git+https://github.com/samgregson/prompt_optimizer.git\n",
        "  !pip install openai\n",
        "  import os\n",
        "  import openai\n",
        "  from google.colab import userdata\n",
        "  os.environ[\"OPENAI_API_KEY\"] = userdata.get('OPENAI_API_KEY')\n",
        "  openai.api_key = os.getenv(\"OPENAI_API_KEY\")"
      ]
    },
    {
      "cell_type": "markdown",
      "metadata": {
        "id": "GQ7PVfP47azs"
      },
      "source": [
        "## Basic steps:\n",
        "1. Add a `@llm_node` decorator to an LLM function\n",
        "2. Create an evaluation template\n",
        "3. Define your \"training\" data\n",
        "4. Set up the optimizer\n",
        "5. Check the results!"
      ]
    },
    {
      "cell_type": "markdown",
      "metadata": {
        "id": "Z90n6Wab71Km"
      },
      "source": [
        "### Imports:"
      ]
    },
    {
      "cell_type": "code",
      "execution_count": null,
      "metadata": {
        "id": "UGgtn8db751E"
      },
      "outputs": [],
      "source": [
        "from textwrap import dedent\n",
        "from openai import OpenAI\n",
        "from prompt_optimizer import Optimizer, llm_node, OpenAIAdapter"
      ]
    },
    {
      "cell_type": "markdown",
      "metadata": {
        "id": "sWC38qco78JN"
      },
      "source": [
        "### 1. LLM 'Program' to optimise:"
      ]
    },
    {
      "cell_type": "code",
      "execution_count": null,
      "metadata": {
        "id": "jJxYkFKv8B1f"
      },
      "outputs": [],
      "source": [
        "client = OpenAI()  # ensure you have OPENAI_API_KEY in environmental variables / secrets\n",
        "\n",
        "system_prompt = \"you are a helpful assistent\"\n",
        "\n",
        "# Add a `llm_node` decorator around a function which takes a prompt to be optimised\n",
        "# the input should be a component to be optimised (`system_prompt`` in this case)\n",
        "@llm_node(system_prompt=system_prompt)\n",
        "def answer_query(query: str, system_prompt: str = system_prompt):\n",
        "    response = client.chat.completions.create(\n",
        "        model=\"gpt-4o-mini\",\n",
        "        messages=[\n",
        "            {\"role\": \"system\", \"content\": system_prompt},\n",
        "            {\"role\": \"user\", \"content\": query},\n",
        "        ],\n",
        "    )\n",
        "    return response.choices[0].message.content.strip()"
      ]
    },
    {
      "cell_type": "markdown",
      "metadata": {
        "id": "WHpcS1wX8JUP"
      },
      "source": [
        "### 2. Eval Template:"
      ]
    },
    {
      "cell_type": "code",
      "execution_count": null,
      "metadata": {
        "id": "-EMsFD8D8Qv_"
      },
      "outputs": [],
      "source": [
        "# Define a template for evaluating the final answer\n",
        "# you may use {program_ouput} and any other custom key word arguments (kwargs)\n",
        "exact_match_evaluator = dedent(\n",
        "    \"\"\"\n",
        "    Your task is to judge the quality if the response given by an AI assistent.\n",
        "    Below are the <question>, <assistent_response> and <expected_answer>.\n",
        "    A correct answer would be an exact string match between the <assistent_response> and the\n",
        "    <expected_answer>\n",
        "\n",
        "    <question>{query}</question>\n",
        "    <assistent_response>{program_ouput}</assistent_response>\n",
        "    <expected_answer>{golden_answer}</expected_answer>\n",
        "    \"\"\"\n",
        ")"
      ]
    },
    {
      "cell_type": "markdown",
      "metadata": {
        "id": "YUH--U328SDM"
      },
      "source": [
        "### 3. Data:"
      ]
    },
    {
      "cell_type": "code",
      "execution_count": null,
      "metadata": {
        "id": "n6Fb6LTQ8Vwv"
      },
      "outputs": [],
      "source": [
        "# Define your dataset, this could have any number of items in the dictionary\n",
        "# and contain any number of examples\n",
        "data = [{\n",
        "    \"query\": \"what is the capital of France?\",\n",
        "    \"golden_answer\": \"<answer>Paris</answer>\"\n",
        "}]"
      ]
    },
    {
      "cell_type": "markdown",
      "metadata": {
        "id": "7JOZVucj8XGR"
      },
      "source": [
        "### 4. Optimize:"
      ]
    },
    {
      "cell_type": "code",
      "execution_count": 13,
      "metadata": {
        "colab": {
          "base_uri": "https://localhost:8080/"
        },
        "id": "oa28k_0b4Oqu",
        "outputId": "86f25da0-2323-4cc0-a704-f4a79594d0bf"
      },
      "outputs": [
        {
          "data": {
            "text/plain": [
              "{'answer_query': {'system_prompt': <prompt_optimizer.prompt_optimizer.OptimizableComponent at 0x7bec5d86cf10>}}"
            ]
          },
          "execution_count": 13,
          "metadata": {},
          "output_type": "execute_result"
        }
      ],
      "source": [
        "# Instantiate an optimizer and pass in an `LLMCallable`\n",
        "# (in this case using the OpenAIAdapter)\n",
        "llm = OpenAIAdapter(client)\n",
        "optimizer = Optimizer(llm)\n",
        "\n",
        "# Optimize\n",
        "optimizer.optimize(\n",
        "    iterations=1,\n",
        "    program_func=answer_query,\n",
        "    evaluation_template=exact_match_evaluator,\n",
        "    data=data,\n",
        ")"
      ]
    },
    {
      "cell_type": "markdown",
      "metadata": {
        "id": "99isisUQ8aZT"
      },
      "source": [
        "### 5. Check the results:"
      ]
    },
    {
      "cell_type": "code",
      "execution_count": 14,
      "metadata": {
        "colab": {
          "base_uri": "https://localhost:8080/"
        },
        "id": "UkTvUCLQ7ODi",
        "outputId": "65c11a2b-de06-4511-f8cf-0d1811ab916d"
      },
      "outputs": [
        {
          "name": "stdout",
          "output_type": "stream",
          "text": [
            "#### RESULT: ####\n",
            "<answer>London</answer>\n",
            "\n",
            "#### PROMPT INFO: ####\n",
            "Node: `answer_query`\n",
            "  system_prompt: Respond succinctly and directly to questions. Provide answers in the format <answer>your_answer</answer> without additional wording. Ensure that your response strictly adheres to the format and content specified in the question without extraneous information. Always answer questions directly and avoid unnecessary elaboration.\n",
            "\n"
          ]
        }
      ],
      "source": [
        "# Check the results\n",
        "result = answer_query(\"what is the capital of England?\").value\n",
        "\n",
        "print(\"#### RESULT: ####\")\n",
        "print(result)\n",
        "# ---- expected answer: ----\n",
        "# <answer>London</answer>\n",
        "\n",
        "print()\n",
        "print(\"#### PROMPT INFO: ####\")\n",
        "print(optimizer.get_prompt_info())\n",
        "# ---- expected answer: ----\n",
        "# Node: `answer_query`\n",
        "#  system_prompt: Provide the answer strictly in the required format, enclosing your response within <answer></answer> tags. Ensure that the content is clear, concise, and directly addresses the question while maintaining a helpful tone."
      ]
    }
  ],
  "metadata": {
    "colab": {
      "include_colab_link": true,
      "provenance": []
    },
    "kernelspec": {
      "display_name": ".venv",
      "language": "python",
      "name": "python3"
    },
    "language_info": {
      "codemirror_mode": {
        "name": "ipython",
        "version": 3
      },
      "file_extension": ".py",
      "mimetype": "text/x-python",
      "name": "python",
      "nbconvert_exporter": "python",
      "pygments_lexer": "ipython3",
      "version": "3.12.5"
    }
  },
  "nbformat": 4,
  "nbformat_minor": 0
}
